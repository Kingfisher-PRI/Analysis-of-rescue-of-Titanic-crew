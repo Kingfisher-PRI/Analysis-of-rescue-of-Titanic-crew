{
 "cells": [
  {
   "cell_type": "markdown",
   "metadata": {},
   "source": [
    "# 泰坦尼克号乘员获救情况分析"
   ]
  },
  {
   "cell_type": "markdown",
   "metadata": {},
   "source": [
    "## 项目背景 ##\n",
    "\n",
    "Titanic可以算的上电影史上最伟大电影之一了，里面太多的情景使人难忘。而实际中Titianic号的沉没，也是世界航海史上一个永恒的话题。本项目打算从数据分析的角度，简单解析一下Titanic号上获救成员的信息。找出在所有乘员中，什么样的人具有最高的生存率。\n",
    "\n",
    "## 目的 ##\n",
    "\n",
    "本项目主要解答以下疑问：\n",
    " 1. 在Titanic事件中，男人和女人的获救情况分别是怎样的？女性是否有更多生还机会？\n",
    " 2. 当时乘员的年龄分布是怎样的？哪些年龄段的人获救比例最高？\n",
    " 3. 在许多历史事件中，贫富差异带来的影响都是绕不开的话题，那么在Titanic事件中，富人和穷人生还的几率会有怎样的差别呢？\n",
    " 4. 综合考虑多个因素，什么样的人，在Titanic事件中获救的可能性最高呢？\n",
    "\n",
    "## 数据探索 ##\n",
    "\n",
    "项目中，数据是从Kaggle网站上获取的CSV数据，数据本身相对完整，不需要再进行数据采集。CSV是一个通用性非常强的文本文件格式，许多软件都可以处理CSV文件，比如Excel。本项目我打算采用Python作为分析工具对数据进行分析和处理。\n",
    "\n",
    "建立一个IPython文件来编写代码，首先应当导入本项目中可能用到的库，比如Pandas，matplotlib, seaborn等，代码如下："
   ]
  },
  {
   "cell_type": "code",
   "execution_count": 82,
   "metadata": {
    "collapsed": true
   },
   "outputs": [],
   "source": [
    "import pandas as pd\n",
    "import numpy as np\n",
    "import seaborn as sns\n",
    "from matplotlib import pyplot as plt\n",
    "%matplotlib inline"
   ]
  },
  {
   "cell_type": "markdown",
   "metadata": {},
   "source": [
    "使用pandas将Kaggle网站上获取的CSV数据，导入到python中"
   ]
  },
  {
   "cell_type": "code",
   "execution_count": 87,
   "metadata": {},
   "outputs": [],
   "source": [
    "df1 = pd.read_csv('titanic_train.csv',sep = ',')"
   ]
  },
  {
   "cell_type": "markdown",
   "metadata": {},
   "source": [
    "打印表头"
   ]
  },
  {
   "cell_type": "code",
   "execution_count": 88,
   "metadata": {},
   "outputs": [
    {
     "data": {
      "text/html": [
       "<div>\n",
       "<style scoped>\n",
       "    .dataframe tbody tr th:only-of-type {\n",
       "        vertical-align: middle;\n",
       "    }\n",
       "\n",
       "    .dataframe tbody tr th {\n",
       "        vertical-align: top;\n",
       "    }\n",
       "\n",
       "    .dataframe thead th {\n",
       "        text-align: right;\n",
       "    }\n",
       "</style>\n",
       "<table border=\"1\" class=\"dataframe\">\n",
       "  <thead>\n",
       "    <tr style=\"text-align: right;\">\n",
       "      <th></th>\n",
       "      <th>PassengerId</th>\n",
       "      <th>Survived</th>\n",
       "      <th>Pclass</th>\n",
       "      <th>Name</th>\n",
       "      <th>Sex</th>\n",
       "      <th>Age</th>\n",
       "      <th>SibSp</th>\n",
       "      <th>Parch</th>\n",
       "      <th>Ticket</th>\n",
       "      <th>Fare</th>\n",
       "      <th>Cabin</th>\n",
       "      <th>Embarked</th>\n",
       "    </tr>\n",
       "  </thead>\n",
       "  <tbody>\n",
       "    <tr>\n",
       "      <th>0</th>\n",
       "      <td>1</td>\n",
       "      <td>0</td>\n",
       "      <td>3</td>\n",
       "      <td>Braund, Mr. Owen Harris</td>\n",
       "      <td>male</td>\n",
       "      <td>22.0</td>\n",
       "      <td>1</td>\n",
       "      <td>0</td>\n",
       "      <td>A/5 21171</td>\n",
       "      <td>7.2500</td>\n",
       "      <td>NaN</td>\n",
       "      <td>S</td>\n",
       "    </tr>\n",
       "    <tr>\n",
       "      <th>1</th>\n",
       "      <td>2</td>\n",
       "      <td>1</td>\n",
       "      <td>1</td>\n",
       "      <td>Cumings, Mrs. John Bradley (Florence Briggs Th...</td>\n",
       "      <td>female</td>\n",
       "      <td>38.0</td>\n",
       "      <td>1</td>\n",
       "      <td>0</td>\n",
       "      <td>PC 17599</td>\n",
       "      <td>71.2833</td>\n",
       "      <td>C85</td>\n",
       "      <td>C</td>\n",
       "    </tr>\n",
       "    <tr>\n",
       "      <th>2</th>\n",
       "      <td>3</td>\n",
       "      <td>1</td>\n",
       "      <td>3</td>\n",
       "      <td>Heikkinen, Miss. Laina</td>\n",
       "      <td>female</td>\n",
       "      <td>26.0</td>\n",
       "      <td>0</td>\n",
       "      <td>0</td>\n",
       "      <td>STON/O2. 3101282</td>\n",
       "      <td>7.9250</td>\n",
       "      <td>NaN</td>\n",
       "      <td>S</td>\n",
       "    </tr>\n",
       "    <tr>\n",
       "      <th>3</th>\n",
       "      <td>4</td>\n",
       "      <td>1</td>\n",
       "      <td>1</td>\n",
       "      <td>Futrelle, Mrs. Jacques Heath (Lily May Peel)</td>\n",
       "      <td>female</td>\n",
       "      <td>35.0</td>\n",
       "      <td>1</td>\n",
       "      <td>0</td>\n",
       "      <td>113803</td>\n",
       "      <td>53.1000</td>\n",
       "      <td>C123</td>\n",
       "      <td>S</td>\n",
       "    </tr>\n",
       "    <tr>\n",
       "      <th>4</th>\n",
       "      <td>5</td>\n",
       "      <td>0</td>\n",
       "      <td>3</td>\n",
       "      <td>Allen, Mr. William Henry</td>\n",
       "      <td>male</td>\n",
       "      <td>35.0</td>\n",
       "      <td>0</td>\n",
       "      <td>0</td>\n",
       "      <td>373450</td>\n",
       "      <td>8.0500</td>\n",
       "      <td>NaN</td>\n",
       "      <td>S</td>\n",
       "    </tr>\n",
       "  </tbody>\n",
       "</table>\n",
       "</div>"
      ],
      "text/plain": [
       "   PassengerId  Survived  Pclass  \\\n",
       "0            1         0       3   \n",
       "1            2         1       1   \n",
       "2            3         1       3   \n",
       "3            4         1       1   \n",
       "4            5         0       3   \n",
       "\n",
       "                                                Name     Sex   Age  SibSp  \\\n",
       "0                            Braund, Mr. Owen Harris    male  22.0      1   \n",
       "1  Cumings, Mrs. John Bradley (Florence Briggs Th...  female  38.0      1   \n",
       "2                             Heikkinen, Miss. Laina  female  26.0      0   \n",
       "3       Futrelle, Mrs. Jacques Heath (Lily May Peel)  female  35.0      1   \n",
       "4                           Allen, Mr. William Henry    male  35.0      0   \n",
       "\n",
       "   Parch            Ticket     Fare Cabin Embarked  \n",
       "0      0         A/5 21171   7.2500   NaN        S  \n",
       "1      0          PC 17599  71.2833   C85        C  \n",
       "2      0  STON/O2. 3101282   7.9250   NaN        S  \n",
       "3      0            113803  53.1000  C123        S  \n",
       "4      0            373450   8.0500   NaN        S  "
      ]
     },
     "execution_count": 88,
     "metadata": {},
     "output_type": "execute_result"
    }
   ],
   "source": [
    "df1.head()"
   ]
  },
  {
   "cell_type": "markdown",
   "metadata": {},
   "source": [
    "数据情况"
   ]
  },
  {
   "cell_type": "code",
   "execution_count": 89,
   "metadata": {},
   "outputs": [
    {
     "name": "stdout",
     "output_type": "stream",
     "text": [
      "<class 'pandas.core.frame.DataFrame'>\n",
      "RangeIndex: 891 entries, 0 to 890\n",
      "Data columns (total 12 columns):\n",
      "PassengerId    891 non-null int64\n",
      "Survived       891 non-null int64\n",
      "Pclass         891 non-null int64\n",
      "Name           891 non-null object\n",
      "Sex            891 non-null object\n",
      "Age            714 non-null float64\n",
      "SibSp          891 non-null int64\n",
      "Parch          891 non-null int64\n",
      "Ticket         891 non-null object\n",
      "Fare           891 non-null float64\n",
      "Cabin          204 non-null object\n",
      "Embarked       889 non-null object\n",
      "dtypes: float64(2), int64(5), object(5)\n",
      "memory usage: 83.6+ KB\n"
     ]
    }
   ],
   "source": [
    "df1.info()"
   ]
  },
  {
   "cell_type": "markdown",
   "metadata": {},
   "source": [
    "可以看到，数据集中共有12个字段，891条记录。字段包括乘员姓名、性别、年龄、船舱、获救情况等。参考前面我所关注的几个问题，在数据集中Survived, Sex, Age, Pclass这几个字段将是我重点关注的字段。我将对这几个字段信息进行探索和分析。同时,数据集中Age和Cabin字段存在缺失值，分析数据前必须先将其进行预处理。\n",
    "\n",
    "首先看下整体的获救比例,0表示未获救，1表示获救。"
   ]
  },
  {
   "cell_type": "code",
   "execution_count": 90,
   "metadata": {},
   "outputs": [
    {
     "data": {
      "text/plain": [
       "<matplotlib.axes._subplots.AxesSubplot at 0x1de6bfc46d8>"
      ]
     },
     "execution_count": 90,
     "metadata": {},
     "output_type": "execute_result"
    },
    {
     "data": {
      "image/png": "[encoded data removed]",
      "text/plain": [
       "<Figure size 432x288 with 1 Axes>"
      ]
     },
     "metadata": {},
     "output_type": "display_data"
    }
   ],
   "source": [
    "df1['Survived'].value_counts().plot.pie(autopct='%1.2f%%')"
   ]
  },
  {
   "cell_type": "code",
   "execution_count": 91,
   "metadata": {},
   "outputs": [
    {
     "name": "stdout",
     "output_type": "stream",
     "text": [
      "['male' 'female']\n"
     ]
    }
   ],
   "source": [
    "print(df1['Sex'].unique())"
   ]
  },
  {
   "cell_type": "code",
   "execution_count": 92,
   "metadata": {},
   "outputs": [
    {
     "data": {
      "text/html": [
       "<div>\n",
       "<style scoped>\n",
       "    .dataframe tbody tr th:only-of-type {\n",
       "        vertical-align: middle;\n",
       "    }\n",
       "\n",
       "    .dataframe tbody tr th {\n",
       "        vertical-align: top;\n",
       "    }\n",
       "\n",
       "    .dataframe thead th {\n",
       "        text-align: right;\n",
       "    }\n",
       "</style>\n",
       "<table border=\"1\" class=\"dataframe\">\n",
       "  <thead>\n",
       "    <tr style=\"text-align: right;\">\n",
       "      <th></th>\n",
       "      <th>PassengerId</th>\n",
       "      <th>Survived</th>\n",
       "      <th>Pclass</th>\n",
       "      <th>Age</th>\n",
       "      <th>SibSp</th>\n",
       "      <th>Parch</th>\n",
       "      <th>Fare</th>\n",
       "    </tr>\n",
       "  </thead>\n",
       "  <tbody>\n",
       "    <tr>\n",
       "      <th>count</th>\n",
       "      <td>891.000000</td>\n",
       "      <td>891.000000</td>\n",
       "      <td>891.000000</td>\n",
       "      <td>714.000000</td>\n",
       "      <td>891.000000</td>\n",
       "      <td>891.000000</td>\n",
       "      <td>891.000000</td>\n",
       "    </tr>\n",
       "    <tr>\n",
       "      <th>mean</th>\n",
       "      <td>446.000000</td>\n",
       "      <td>0.383838</td>\n",
       "      <td>2.308642</td>\n",
       "      <td>29.699118</td>\n",
       "      <td>0.523008</td>\n",
       "      <td>0.381594</td>\n",
       "      <td>32.204208</td>\n",
       "    </tr>\n",
       "    <tr>\n",
       "      <th>std</th>\n",
       "      <td>257.353842</td>\n",
       "      <td>0.486592</td>\n",
       "      <td>0.836071</td>\n",
       "      <td>14.526497</td>\n",
       "      <td>1.102743</td>\n",
       "      <td>0.806057</td>\n",
       "      <td>49.693429</td>\n",
       "    </tr>\n",
       "    <tr>\n",
       "      <th>min</th>\n",
       "      <td>1.000000</td>\n",
       "      <td>0.000000</td>\n",
       "      <td>1.000000</td>\n",
       "      <td>0.420000</td>\n",
       "      <td>0.000000</td>\n",
       "      <td>0.000000</td>\n",
       "      <td>0.000000</td>\n",
       "    </tr>\n",
       "    <tr>\n",
       "      <th>25%</th>\n",
       "      <td>223.500000</td>\n",
       "      <td>0.000000</td>\n",
       "      <td>2.000000</td>\n",
       "      <td>20.125000</td>\n",
       "      <td>0.000000</td>\n",
       "      <td>0.000000</td>\n",
       "      <td>7.910400</td>\n",
       "    </tr>\n",
       "    <tr>\n",
       "      <th>50%</th>\n",
       "      <td>446.000000</td>\n",
       "      <td>0.000000</td>\n",
       "      <td>3.000000</td>\n",
       "      <td>28.000000</td>\n",
       "      <td>0.000000</td>\n",
       "      <td>0.000000</td>\n",
       "      <td>14.454200</td>\n",
       "    </tr>\n",
       "    <tr>\n",
       "      <th>75%</th>\n",
       "      <td>668.500000</td>\n",
       "      <td>1.000000</td>\n",
       "      <td>3.000000</td>\n",
       "      <td>38.000000</td>\n",
       "      <td>1.000000</td>\n",
       "      <td>0.000000</td>\n",
       "      <td>31.000000</td>\n",
       "    </tr>\n",
       "    <tr>\n",
       "      <th>max</th>\n",
       "      <td>891.000000</td>\n",
       "      <td>1.000000</td>\n",
       "      <td>3.000000</td>\n",
       "      <td>80.000000</td>\n",
       "      <td>8.000000</td>\n",
       "      <td>6.000000</td>\n",
       "      <td>512.329200</td>\n",
       "    </tr>\n",
       "  </tbody>\n",
       "</table>\n",
       "</div>"
      ],
      "text/plain": [
       "       PassengerId    Survived      Pclass         Age       SibSp  \\\n",
       "count   891.000000  891.000000  891.000000  714.000000  891.000000   \n",
       "mean    446.000000    0.383838    2.308642   29.699118    0.523008   \n",
       "std     257.353842    0.486592    0.836071   14.526497    1.102743   \n",
       "min       1.000000    0.000000    1.000000    0.420000    0.000000   \n",
       "25%     223.500000    0.000000    2.000000   20.125000    0.000000   \n",
       "50%     446.000000    0.000000    3.000000   28.000000    0.000000   \n",
       "75%     668.500000    1.000000    3.000000   38.000000    1.000000   \n",
       "max     891.000000    1.000000    3.000000   80.000000    8.000000   \n",
       "\n",
       "            Parch        Fare  \n",
       "count  891.000000  891.000000  \n",
       "mean     0.381594   32.204208  \n",
       "std      0.806057   49.693429  \n",
       "min      0.000000    0.000000  \n",
       "25%      0.000000    7.910400  \n",
       "50%      0.000000   14.454200  \n",
       "75%      0.000000   31.000000  \n",
       "max      6.000000  512.329200  "
      ]
     },
     "execution_count": 92,
     "metadata": {},
     "output_type": "execute_result"
    }
   ],
   "source": [
    "#对原始数据统计分析\n",
    "df1.describe()"
   ]
  },
  {
   "cell_type": "markdown",
   "metadata": {},
   "source": [
    "发现年龄有大量缺失，为了数据的完整性，用平均年龄对缺失数据进行填充"
   ]
  },
  {
   "cell_type": "code",
   "execution_count": 93,
   "metadata": {},
   "outputs": [
    {
     "data": {
      "text/html": [
       "<div>\n",
       "<style scoped>\n",
       "    .dataframe tbody tr th:only-of-type {\n",
       "        vertical-align: middle;\n",
       "    }\n",
       "\n",
       "    .dataframe tbody tr th {\n",
       "        vertical-align: top;\n",
       "    }\n",
       "\n",
       "    .dataframe thead th {\n",
       "        text-align: right;\n",
       "    }\n",
       "</style>\n",
       "<table border=\"1\" class=\"dataframe\">\n",
       "  <thead>\n",
       "    <tr style=\"text-align: right;\">\n",
       "      <th></th>\n",
       "      <th>PassengerId</th>\n",
       "      <th>Survived</th>\n",
       "      <th>Pclass</th>\n",
       "      <th>Age</th>\n",
       "      <th>SibSp</th>\n",
       "      <th>Parch</th>\n",
       "      <th>Fare</th>\n",
       "    </tr>\n",
       "  </thead>\n",
       "  <tbody>\n",
       "    <tr>\n",
       "      <th>count</th>\n",
       "      <td>891.000000</td>\n",
       "      <td>891.000000</td>\n",
       "      <td>891.000000</td>\n",
       "      <td>891.000000</td>\n",
       "      <td>891.000000</td>\n",
       "      <td>891.000000</td>\n",
       "      <td>891.000000</td>\n",
       "    </tr>\n",
       "    <tr>\n",
       "      <th>mean</th>\n",
       "      <td>446.000000</td>\n",
       "      <td>0.383838</td>\n",
       "      <td>2.308642</td>\n",
       "      <td>29.699118</td>\n",
       "      <td>0.523008</td>\n",
       "      <td>0.381594</td>\n",
       "      <td>32.204208</td>\n",
       "    </tr>\n",
       "    <tr>\n",
       "      <th>std</th>\n",
       "      <td>257.353842</td>\n",
       "      <td>0.486592</td>\n",
       "      <td>0.836071</td>\n",
       "      <td>13.002015</td>\n",
       "      <td>1.102743</td>\n",
       "      <td>0.806057</td>\n",
       "      <td>49.693429</td>\n",
       "    </tr>\n",
       "    <tr>\n",
       "      <th>min</th>\n",
       "      <td>1.000000</td>\n",
       "      <td>0.000000</td>\n",
       "      <td>1.000000</td>\n",
       "      <td>0.420000</td>\n",
       "      <td>0.000000</td>\n",
       "      <td>0.000000</td>\n",
       "      <td>0.000000</td>\n",
       "    </tr>\n",
       "    <tr>\n",
       "      <th>25%</th>\n",
       "      <td>223.500000</td>\n",
       "      <td>0.000000</td>\n",
       "      <td>2.000000</td>\n",
       "      <td>22.000000</td>\n",
       "      <td>0.000000</td>\n",
       "      <td>0.000000</td>\n",
       "      <td>7.910400</td>\n",
       "    </tr>\n",
       "    <tr>\n",
       "      <th>50%</th>\n",
       "      <td>446.000000</td>\n",
       "      <td>0.000000</td>\n",
       "      <td>3.000000</td>\n",
       "      <td>29.699118</td>\n",
       "      <td>0.000000</td>\n",
       "      <td>0.000000</td>\n",
       "      <td>14.454200</td>\n",
       "    </tr>\n",
       "    <tr>\n",
       "      <th>75%</th>\n",
       "      <td>668.500000</td>\n",
       "      <td>1.000000</td>\n",
       "      <td>3.000000</td>\n",
       "      <td>35.000000</td>\n",
       "      <td>1.000000</td>\n",
       "      <td>0.000000</td>\n",
       "      <td>31.000000</td>\n",
       "    </tr>\n",
       "    <tr>\n",
       "      <th>max</th>\n",
       "      <td>891.000000</td>\n",
       "      <td>1.000000</td>\n",
       "      <td>3.000000</td>\n",
       "      <td>80.000000</td>\n",
       "      <td>8.000000</td>\n",
       "      <td>6.000000</td>\n",
       "      <td>512.329200</td>\n",
       "    </tr>\n",
       "  </tbody>\n",
       "</table>\n",
       "</div>"
      ],
      "text/plain": [
       "       PassengerId    Survived      Pclass         Age       SibSp  \\\n",
       "count   891.000000  891.000000  891.000000  891.000000  891.000000   \n",
       "mean    446.000000    0.383838    2.308642   29.699118    0.523008   \n",
       "std     257.353842    0.486592    0.836071   13.002015    1.102743   \n",
       "min       1.000000    0.000000    1.000000    0.420000    0.000000   \n",
       "25%     223.500000    0.000000    2.000000   22.000000    0.000000   \n",
       "50%     446.000000    0.000000    3.000000   29.699118    0.000000   \n",
       "75%     668.500000    1.000000    3.000000   35.000000    1.000000   \n",
       "max     891.000000    1.000000    3.000000   80.000000    8.000000   \n",
       "\n",
       "            Parch        Fare  \n",
       "count  891.000000  891.000000  \n",
       "mean     0.381594   32.204208  \n",
       "std      0.806057   49.693429  \n",
       "min      0.000000    0.000000  \n",
       "25%      0.000000    7.910400  \n",
       "50%      0.000000   14.454200  \n",
       "75%      0.000000   31.000000  \n",
       "max      6.000000  512.329200  "
      ]
     },
     "execution_count": 93,
     "metadata": {},
     "output_type": "execute_result"
    }
   ],
   "source": [
    "df1[\"Age\"] = df1[\"Age\"].fillna(df1[\"Age\"].mean())\n",
    "df1.describe()"
   ]
  },
  {
   "cell_type": "code",
   "execution_count": 96,
   "metadata": {},
   "outputs": [
    {
     "data": {
      "image/png": "[encoded data removed]",
      "text/plain": [
       "<Figure size 432x288 with 3 Axes>"
      ]
     },
     "metadata": {},
     "output_type": "display_data"
    }
   ],
   "source": [
    "#观察性别分布情况\n",
    "count_by_sex = df1.groupby(['Sex'])['Survived'].count()\n",
    "#print count_by_sex\n",
    "fig = plt.figure()\n",
    "ax1 = plt.subplot(221)\n",
    "rect = ax1.bar([1,2],count_by_sex.values, width = 0.5, align = 'center')\n",
    "ax1.set_title('Distribution of Sex')\n",
    "\n",
    "#设置X轴刻度：\n",
    "def auto_xtricks(rects,xtricks):\n",
    "    x = []\n",
    "    for rect in rects:\n",
    "        x.append(rect.get_x() + rect.get_width()/2)\n",
    "    x = tuple(x)\n",
    "    plt.xticks(x,xtricks)\n",
    "auto_xtricks(rect,count_by_sex.index)\n",
    "\n",
    "#设置数据标签数：\n",
    "def auto_tag(rects, data = None, offset = [0,0]):\n",
    "    for rect in rects:\n",
    "        try:\n",
    "            height = rect.get_height()\n",
    "            plt.text(rect.get_x()+rect.get_width()/2.4, 1.01*height, '%s' % int(height))\n",
    "        except AttributeError:\n",
    "            x = range(len(data))\n",
    "            y = data.values\n",
    "            for i in range(len(x)):\n",
    "                plt.text(x[i]-0.2+offset[0],y[i]+0.05+offset[1],y[i])\n",
    "auto_tag(rect)\n",
    "\n",
    "\n",
    "#观察舱位分布情况\n",
    "count_by_Pclass = df.groupby(['Pclass']).Pclass.count()\n",
    "ax2 = plt.subplot(222)\n",
    "rect = ax2.bar(count_by_Pclass.index,count_by_Pclass.values,width = 0.4)\n",
    "auto_xtricks(rect,count_by_Pclass.index)\n",
    "auto_tag(rect)\n",
    "ax2.set_title('Distribution of Pclass')\n",
    "\n",
    "\n",
    "#自定义函数，用来获取Age字段值所对应的年龄段\n",
    "def get_age_group(age,lim = 10):\n",
    "    return '[{0},{1})'.format(lim*int(age//lim), lim*int(age//lim) + lim)\n",
    "\n",
    "#利用pandas的映射功能，针对每一条记录的Age值，算出所在年龄段，并放入GroupAge字段\n",
    "df1['GroupAge'] = df1['Age'].apply(get_age_group)\n",
    "#将数据写入csv文件存档\n",
    "df1.to_csv('df1.csv', header = True, index = False)\n",
    "\n",
    "#将数据按照年龄段分组，计算人数\n",
    "group_by_age = df1.groupby(['GroupAge'])['Survived'].count()\n",
    "ax3 = plt.subplot(212)\n",
    "rect = plt.bar(range(len(group_by_age)),group_by_age.values)\n",
    "auto_xtricks(rect,group_by_age.index)\n",
    "auto_tag(rect)\n",
    "ax3.set_title('Distribution of Age')\n",
    "plt.subplots_adjust(top = 1.2, hspace = 0.4)"
   ]
  },
  {
   "cell_type": "markdown",
   "metadata": {},
   "source": [
    "上面的图形清楚的展示了Titanic成员的不同分布情况：\n",
    "1. 乘客中，女性有314人，男性有577人，男性乘客人数多于女性。\n",
    "2. 一等舱乘客有216人，二等舱乘客有184人，三等舱乘客有491人,三等舱人数最多。\n",
    "3. 乘客的年龄分布呈现中间多、两头少的形态，相似于正态分布。在所有乘客中，20-30岁年龄段的人数最多，为397人；80-90岁年龄，只有1人。\n",
    "\n",
    "以上数据展示的是全体乘员的分布状况，我预计获救乘员的分布状况应该有所不同，在下面的数据分析中，我再进行详细的探讨。\n",
    "\n",
    "## 数据分析 ##\n",
    "\n",
    "### 第一个问题是：**Titanic上不同性别的乘员构成，以及其获救情况。**  ###\n",
    "\n",
    "为了更加直观的查看分布情况，我们依然使用matplotlib库对数据进行可视化。具体的执行步骤是：\n",
    "1. 使用Pandas的groupby()方法对数据按照性别分组；\n",
    "2. 使用Pandas的count()方法对每组进行计数；\n",
    "3. 使用Pandas的plot()方法绘制图形。\n",
    "代码如下：\n",
    "\n",
    "从上面的输出中我们看到，女性获救人数远远高于男性！在314名女性中，获救的有233名，比例约为74%。在577名男性中，获救的只有109名，比例约为19%。无论从获救人数还是从获救比例来看，女性的生还率都远远高于男性。\n",
    "\n",
    "由此，在**仅考虑性别**这一因素的情况下，我们大致可以得出这样的判断：** 在Titanic事件中，‘女士优先’这一道德准则被坚定的执行了，乘员中的女性获得了更多的生还机会。**"
   ]
  },
  {
   "cell_type": "code",
   "execution_count": 97,
   "metadata": {},
   "outputs": [
    {
     "data": {
      "text/plain": [
       "Sex     Survived\n",
       "female  0            81\n",
       "        1           233\n",
       "male    0           468\n",
       "        1           109\n",
       "Name: Survived, dtype: int64"
      ]
     },
     "execution_count": 97,
     "metadata": {},
     "output_type": "execute_result"
    }
   ],
   "source": [
    "df1.groupby(['Sex','Survived'])['Survived'].count()"
   ]
  },
  {
   "cell_type": "code",
   "execution_count": 98,
   "metadata": {},
   "outputs": [
    {
     "data": {
      "text/plain": [
       "<matplotlib.axes._subplots.AxesSubplot at 0x1de6d0542e8>"
      ]
     },
     "execution_count": 98,
     "metadata": {},
     "output_type": "execute_result"
    },
    {
     "data": {
      "image/png": "[encoded data removed]",
      "text/plain": [
       "<Figure size 432x288 with 1 Axes>"
      ]
     },
     "metadata": {},
     "output_type": "display_data"
    }
   ],
   "source": [
    "df1[['Sex','Survived']].groupby(['Sex']).mean().plot.bar()"
   ]
  },
  {
   "cell_type": "markdown",
   "metadata": {},
   "source": [
    "可以看出在记录中的所有成员中，男性为577人，女性为314人。而在获救乘员中，女性为233人，男性为109人，女性远远多于男性！从生还率来说，女性乘客的生还率约为74%，而男性的生还率只有19%。这是一个巨大的差异，因此这个差异不太可能是受随机因素影响而出现的。因此可以大胆推断，** 在Titanic沉船事件逃亡过程中，“女士优先”这一道德准则被坚定的执行了，因此女性乘员获得了更多生还的机会。**\n",
    "\n",
    "### 第二个问题是：考虑年龄因素，不同年龄段的乘员分布以及其获救情况是怎样的？###\n",
    "\n",
    "由于对于年龄数据来说，一般不会关注某一个年龄点的信息，更多的是关注某个年龄段的信息。因此就应该考虑将年龄分组（这里我取10年为一个阶段）来进行数据分析。\n",
    "\n",
    "要画出不同年龄阶段的图形，我们有两种方法：\n",
    "* 方法一：利用pandas库自带的hist()方法，直接将Age数据传入即可自动分组并绘制出X轴为年龄的直方图；\n",
    "* 方法二：针对每一条记录，判断记录中Age字段的值属于哪个年龄段，把这个年龄段数据作为一个新的字段添加到原有数据中，然后在利用pyplot中的plot()或者bar()方法，绘制出X轴为年龄段数据的条形图。\n",
    "\n",
    "在这里，为了绘图更灵活，并且方便进行排序等操作，我采用第二种方法绘制图形。在进行统计、绘图之前，要先清理缺失值，以免影响结论。"
   ]
  },
  {
   "cell_type": "code",
   "execution_count": 99,
   "metadata": {},
   "outputs": [
    {
     "data": {
      "text/plain": [
       "GroupAge\n",
       "[0,10)      62\n",
       "[10,20)    102\n",
       "[20,30)    397\n",
       "[30,40)    167\n",
       "[40,50)     89\n",
       "[50,60)     48\n",
       "[60,70)     19\n",
       "[70,80)      6\n",
       "[80,90)      1\n",
       "Name: Survived, dtype: int64"
      ]
     },
     "execution_count": 99,
     "metadata": {},
     "output_type": "execute_result"
    }
   ],
   "source": [
    "group_by_age"
   ]
  },
  {
   "cell_type": "code",
   "execution_count": 100,
   "metadata": {},
   "outputs": [
    {
     "data": {
      "text/plain": [
       "<matplotlib.axes._subplots.AxesSubplot at 0x1de6d02fd68>"
      ]
     },
     "execution_count": 100,
     "metadata": {},
     "output_type": "execute_result"
    },
    {
     "data": {
      "image/png": "[encoded data removed]",
      "text/plain": [
       "<Figure size 432x288 with 1 Axes>"
      ]
     },
     "metadata": {},
     "output_type": "display_data"
    }
   ],
   "source": [
    "#方法一绘制图形\n",
    "survived_by_age = df1[df.Survived == 1]\n",
    "drop_null_age.Age.hist()\n",
    "survived_by_age.Age.hist()   "
   ]
  },
  {
   "cell_type": "code",
   "execution_count": 101,
   "metadata": {},
   "outputs": [
    {
     "data": {
      "text/plain": [
       "<matplotlib.legend.Legend at 0x1de6d10ab00>"
      ]
     },
     "execution_count": 101,
     "metadata": {},
     "output_type": "execute_result"
    },
    {
     "data": {
      "image/png": "[encoded data removed]",
      "text/plain": [
       "<Figure size 432x288 with 1 Axes>"
      ]
     },
     "metadata": {},
     "output_type": "display_data"
    }
   ],
   "source": [
    "#方法二绘制图形\n",
    "#将数据按照年龄段分组，计算人数\n",
    "group_by_age = df1.groupby(['GroupAge'])['Survived'].count()\n",
    "survived_by_age = df1.groupby(['GroupAge'])['Survived'].sum()\n",
    "\n",
    "#绘制图形\n",
    "rect = plt.bar(range(len(group_by_age)),group_by_age.values, width = 0.4)\n",
    "x = [i + 0.4 for i in range(len(survived_by_age))]\n",
    "rect1 = plt.bar(x, survived_by_age.values, width = 0.4, color = 'g', alpha = 0.7)\n",
    "#设置数据标签和X轴数据\n",
    "auto_tag(rect)\n",
    "auto_tag(rect1)\n",
    "auto_xtricks(rect, group_by_age.index)\n",
    "#设置图例\n",
    "plt.legend((rect,rect1),('Count','Suvived'),loc='upper right')"
   ]
  },
  {
   "cell_type": "markdown",
   "metadata": {},
   "source": [
    "从图中我们可以得到以下信息：\n",
    "1. 获救乘员人数的年龄分布与乘员人数分布的形态比较相似，也是中间高两头低；\n",
    "2. 虽然20~30岁年龄段的获救人数最多，但是其获救比例看起来比其他年龄段要低一些。\n",
    "\n",
    "为了更加清楚的了解各年龄段的生还比例，我进行了计算并画出图形："
   ]
  },
  {
   "cell_type": "code",
   "execution_count": 102,
   "metadata": {
    "collapsed": true
   },
   "outputs": [],
   "source": [
    "#生还比例计算\n",
    "survived_rate_by_age = survived_by_age.apply(float) / group_by_age.apply(float)\n",
    "#自定义函数，四舍五入取前两位小数\n",
    "def round_2(float_data):\n",
    "    return round(float_data,2)\n",
    "survived_rate_by_age = survived_rate_by_age.apply(round_2)"
   ]
  },
  {
   "cell_type": "code",
   "execution_count": 103,
   "metadata": {},
   "outputs": [
    {
     "data": {
      "image/png": "[encoded data removed]",
      "text/plain": [
       "<Figure size 432x288 with 1 Axes>"
      ]
     },
     "metadata": {},
     "output_type": "display_data"
    }
   ],
   "source": [
    "#画出带数据点的折线图\n",
    "x = range(len(survived_rate_by_age))\n",
    "y = survived_rate_by_age.values\n",
    "rect = plt.plot(x,y)\n",
    "plt.xticks(x,survived_rate_by_age.index)\n",
    "auto_tag(rect, survived_rate_by_age)"
   ]
  },
  {
   "cell_type": "markdown",
   "metadata": {},
   "source": [
    "从折线图上可以看到，两个极值点对应的年龄段为70-80，和80-90。参考之前的条形图可以知道，这两个年龄段的总人数分别是6人和1人。**由于计算基数太小，因此可以认为对于这两个年龄段，我们计算出的生还率不具备显著的统计学意义。**在分析的时候可以忽略。\n",
    "\n",
    "对于其他数据点，我们可以得出一些结论：\n",
    "1. 0-10岁这个年龄段（即儿童）的生还率最高，达到了61%左右；\n",
    "2. 60-70岁（老年人）和20-30岁（青年人）的生还率最低，只有32%左右；\n",
    "3. 其余人群的生还率在40%左右。\n",
    "\n",
    "上面这些结论其实非常有趣。一般来讲，由于生理上的差异，在面对灾难时，青壮年人群的生还率要显著高于儿童和老人。但是我们可以看到在Titanic沉船事件中却并非如此。\n",
    "* 60-70岁的老人生还率确实比较低，这个有两方面的因素可以解释，一是因为这个年龄段的老人生理上处于衰弱期，可能还伴有疾病，因此即便获得了逃生的机会也不一定能够幸存；二是在数据集中这个年龄段人数只有19人，基数偏小，因此计算得出的生还率受随机因素影响较大，代表性不强。\n",
    "\n",
    "* 对于0-10岁的儿童，我们可以看到生还率远远高于其他年龄段，但是儿童显然不具备很高的自救能力。因此我们可以大胆的推断：**在Titanic沉船事件的逃生过程中，儿童得到了优待明显的优待，因此其生还率显著高于其他年龄段。**\n",
    "\n",
    "* 最让人诧异的是20-40岁年龄段的数据。一般来讲20-30岁和30-40岁正处于生理状态较好的青年时期，按照常理推断，在灾难中这两个年龄段的人生还率应该相近并且比其他年龄段人群要高，但这与数据集展示出的结论并不相同。20-30岁这个阶段，一般来说处在人生理、体能的巅峰阶段，生还率应该是最高的，但是在本数据集中，这个年龄段的生还率只有32%。对于这个情况，我不由得**猜测，对于20-30岁这个年龄段来说，正是年轻热血的时期，在面对灾难的时候，许多人就像电影里的主角Jack一样，将生还的机会给了自己的爱人、亲人或者朋友，而自己从容赴死。** 而对于30-40岁这个年龄段来说，也许是人近中年，经历过生活的历练和情感的波折，明白生命的可贵，于是在面对灾难时求生的本能压倒了一切，所以这个年龄段的人有比较高的生还率。** 当然，这些只是我个人的猜测，并没有充分的证据证明这背后的逻辑关系。**\n",
    "\n",
    "### 第三个问题是：Titanic事件中，富人和穷人生还的几率会有怎样的差别？ ###\n",
    "\n",
    "从数据集中，我们无法直接判断哪些乘客是富人，哪些是穷人。但是考虑到，一般来讲，有能力乘坐一等舱的应该是经济比较宽裕的人，而乘坐三等舱的乘客应该是经济不那么宽裕的人。因此，我们可以将上述问题简化为：** 不同舱位等级的乘客，其生还率有何不同？**\n",
    "\n",
    "同样的，把数据按照Pclass字段值分组，并绘制出图形："
   ]
  },
  {
   "cell_type": "code",
   "execution_count": 104,
   "metadata": {},
   "outputs": [
    {
     "data": {
      "text/plain": [
       "<matplotlib.legend.Legend at 0x1de6d223a20>"
      ]
     },
     "execution_count": 104,
     "metadata": {},
     "output_type": "execute_result"
    },
    {
     "data": {
      "image/png": "[encoded data removed]",
      "text/plain": [
       "<Figure size 432x288 with 2 Axes>"
      ]
     },
     "metadata": {},
     "output_type": "display_data"
    }
   ],
   "source": [
    "#按Pclass字段分组，并计算总人数和获救人数\n",
    "count_by_Pclass = df1.groupby(['Pclass']).Pclass.count()\n",
    "survived_by_Pclass = df1.groupby(['Pclass']).Survived.sum()\n",
    "\n",
    "#绘制条形图\n",
    "fig = plt.figure()\n",
    "ax1 = fig.add_subplot(111)\n",
    "rect = ax1.bar(count_by_Pclass.index,count_by_Pclass.values,width = 0.4)\n",
    "rect1 = ax1.bar(survived_by_Pclass.index + 0.4, survived_by_Pclass.values, width = 0.4,color = 'g')\n",
    "ax1.set_ylabel('Quantity of count and survived')\n",
    "#设置X轴数据\n",
    "plt.xticks(count_by_Pclass.index + 0.4,count_by_Pclass.index)\n",
    "#添加数据标签\n",
    "auto_tag(rect)\n",
    "auto_tag(rect1)\n",
    "#添加图例\n",
    "plt.legend((rect,rect1),('Count','Suvived'),loc='upper left')\n",
    "\n",
    "#计算生还率\n",
    "survived_rate_by_Pclass = survived_by_Pclass.apply(float) / count_by_Pclass.apply(float)\n",
    "survived_rate_by_Pclass = survived_rate_by_Pclass.apply(round_2)\n",
    "\n",
    "#绘制生还率折线图\n",
    "ax2 = ax1.twinx() #公用X轴\n",
    "x = [i+1.4 for i in range(len(survived_by_Pclass))]\n",
    "y = survived_rate_by_Pclass.values\n",
    "rect2 = ax2.plot(x,y,'mo-', label = 'right')\n",
    "#添加数据标签\n",
    "auto_tag(rect2,survived_rate_by_Pclass,offset = [1.5,0])\n",
    "\n",
    "plt.grid(False)\n",
    "ax2.set_ylim(0.,1.)\n",
    "ax2.set_ylabel('Survived Rate')\n",
    "#添加图例\n",
    "plt.legend(rect2,['Survived_Rate',], loc = 'upper center')"
   ]
  },
  {
   "cell_type": "markdown",
   "metadata": {},
   "source": [
    "这张图给出了非常明确的信息：\n",
    "1. 数据集中三等舱人数最多，其次是一等舱，二等舱最少；\n",
    "2. 一等舱生还人数最多，其次是三等舱，二等舱最少；\n",
    "3. ** 一等舱生还比例最高，为63%；二等舱次之，为47%；三等舱最低，只有24%。** 这是非常明显的阶梯型的差异，一等舱乘客的生还率远高于三等舱，是两倍还多。考虑到舱位等级背后隐含的贫富的差异，我们大概可以**推断：在Titanic沉船事件中，相对富有的人（一等舱乘客）生还率远高于相对贫穷的人（三等舱乘客）。贫富差异造成的生活乃至生存机会的不同，在Titanic事件中同样体现的淋漓尽致！**\n",
    "\n",
    "### 最后一个问题是：综合考虑多个因素，在Titanic沉船事件中，哪个人群生还几率最高呢？###\n",
    "\n",
    "这个问题相对于前面三个问题略显复杂，需要从多个角度对其进行分析。不过分析思路是一样的，对数据进行多维度分组，然后绘制出分组数据的相关图形。在这里，我打算从前面提到过的年龄、性别、舱位这三个因素进行分析。代码如下："
   ]
  },
  {
   "cell_type": "code",
   "execution_count": 105,
   "metadata": {},
   "outputs": [
    {
     "name": "stdout",
     "output_type": "stream",
     "text": [
      "                        Count  SuvivedRate\n",
      "Sex    Pclass GroupAge                    \n",
      "female 1      [10,20)      13         1.00\n",
      "              [20,30)      25         0.96\n",
      "              [30,40)      27         1.00\n",
      "              [40,50)      13         1.00\n",
      "              [50,60)      12         0.92\n",
      "              [60,70)       3         1.00\n",
      "       2      [0,10)        8         1.00\n",
      "              [10,20)       8         1.00\n",
      "              [20,30)      27         0.89\n",
      "              [30,40)      17         0.94\n",
      "              [40,50)      10         0.90\n",
      "              [50,60)       6         0.83\n",
      "       3      [60,70)       1         1.00\n",
      "male   1      [0,10)        2         1.00\n",
      "              [80,90)       1         1.00\n",
      "       2      [0,10)        9         1.00\n"
     ]
    }
   ],
   "source": [
    "#按照性别、舱位、年龄进行多层分组\n",
    "group_by = df1.groupby(['Sex','Pclass','GroupAge']).count() #计算分组总人数\n",
    "survived_by = df1.groupby(['Sex','Pclass','GroupAge']).sum() #计算分组生还人数\n",
    "\n",
    "#计算生还率\n",
    "survived_rate = (survived_by['Survived'].apply(float) / group_by['Survived'].apply(float)).apply(round_2)\n",
    "group_by['SurvivedRate'] = survived_rate  #生还率数据添加进分组数据中\n",
    "\n",
    "#按照生还率排序，取出生还率高于80%的数据，再按照索引排序\n",
    "sorted_data = group_by.sort_values('SurvivedRate', ascending = False)[['Survived','SurvivedRate']]\n",
    "highest_survived_rate = sorted_data[sorted_data['SurvivedRate'] > 0.8].sort_index()\n",
    "highest_survived_rate.columns = ['Count','SuvivedRate']\n",
    "print (highest_survived_rate)"
   ]
  },
  {
   "cell_type": "markdown",
   "metadata": {},
   "source": [
    "从上面输出的结果中已经可以明显看到，在高于80%生还率的数据中，几乎都是女性。并且，乘坐的一等舱和二等舱的几乎所有年龄段的女性都具有较高的生还率。从数据中Count字段值看到，有部分分组数据的总人数比较少，其计算出来的生还率不具备显著的统计学意义，所以我将这部分数据剔除："
   ]
  },
  {
   "cell_type": "code",
   "execution_count": 106,
   "metadata": {},
   "outputs": [
    {
     "name": "stdout",
     "output_type": "stream",
     "text": [
      "                        Count  SuvivedRate\n",
      "Sex    Pclass GroupAge                    \n",
      "female 1      [10,20)      13         1.00\n",
      "              [20,30)      25         0.96\n",
      "              [30,40)      27         1.00\n",
      "              [40,50)      13         1.00\n",
      "              [50,60)      12         0.92\n",
      "       2      [0,10)        8         1.00\n",
      "              [10,20)       8         1.00\n",
      "              [20,30)      27         0.89\n",
      "              [30,40)      17         0.94\n",
      "              [40,50)      10         0.90\n",
      "              [50,60)       6         0.83\n",
      "male   2      [0,10)        9         1.00\n"
     ]
    }
   ],
   "source": [
    "print (highest_survived_rate[highest_survived_rate['Count'] > 5])"
   ]
  },
  {
   "cell_type": "markdown",
   "metadata": {},
   "source": [
    "从这个结果中，我们可以得出非常明确的结论：\n",
    "1. 一等舱的乘员中，年龄10-60岁之间的女性具有最高的生还率，在90%以上；\n",
    "2. 二等舱的乘员中，年龄0-60岁之间的女性具有非常高的生还率，在80%以上；\n",
    "3. 男性乘员中，只有儿童（10岁以下）具有比较高的生还率。乘坐二等舱的男性儿童生还率近乎100%。\n",
    "\n",
    "除了上面的数据输出之外，其实还可以将不同性别、年龄、舱位的乘客生还率绘制成气泡图，从图中可以直观的得出结论。代码如下："
   ]
  },
  {
   "cell_type": "code",
   "execution_count": 108,
   "metadata": {},
   "outputs": [
    {
     "data": {
      "image/png": "[encoded data removed]",
      "text/plain": [
       "<Figure size 432x288 with 1 Axes>"
      ]
     },
     "metadata": {},
     "output_type": "display_data"
    }
   ],
   "source": [
    "#将多层索引数据转换成二维\n",
    "survived_data = group_by['SurvivedRate']\n",
    "unstack_sex_data = survived_data.unstack(0)\n",
    "unstack_female_data = unstack_sex_data.female.unstack()\n",
    "unstack_male_data = unstack_sex_data.male.unstack()\n",
    "\n",
    "#绘制气泡图\n",
    "x1 = range(len(unstack_female_data.columns))\n",
    "for i in unstack_female_data.index:\n",
    "    y = unstack_female_data.loc[i].values\n",
    "    plt.scatter(x1,y,s = 360/(i*i),color = 'r', alpha = 0.5)\n",
    "plt.xticks(x1,unstack_female_data.columns)\n",
    "\n",
    "x2 = range(len(unstack_male_data.columns))\n",
    "for i in unstack_male_data.index:\n",
    "    y = unstack_male_data.loc[i].values\n",
    "    plt.scatter(x2,y, s = 360/(i*i), color = 'b', alpha = 0.4)\n"
   ]
  },
  {
   "cell_type": "markdown",
   "metadata": {},
   "source": [
    "上面的气泡图中，横坐标代表年龄段分布，纵坐标代表乘客生还率。红色的气泡代表女性乘员，蓝色代表男性乘员。大的气泡代表一等舱，中等气泡代表二等舱，最小的气泡代表三等舱。\n",
    "从图中可以看到：\n",
    "1. 从10岁直到70岁这个年龄段，几乎所有舱位的女性乘客生还率都高于男性乘员。\n",
    "2. 乘坐一等舱和二等舱的女性乘客，只要年龄超过10岁，其生还率几乎都在80%以上。\n",
    "\n",
    "综合上面的分析可以得出：** 生还率最高的人群为：女性，年龄在10-70岁之间，乘坐一等舱或二等舱。其生还率在80%以上。**\n",
    "\n",
    "\n",
    "### 分析总结 ###\n",
    "\n",
    "此项目使用pandas库对数据进行了整理和计算，并使用matplotlib库的pyplot模块将数据可视化。通过对数据的计算和对图形的观察，顺利的解决了在项目开始时提出的四个问题。但是需要说明的是，本项目中进行的分析仅仅是从数据本身展现出来的情况进行的，仅仅能表明数据之间的相关关系。在所有的分析结论中，数据之间的因果关系或者逻辑关系，仅仅是一种合理推测，并非严格的统计论证。\n",
    "本项目仅初步探索了Titanic号沉船事件中，影响生还率的部分因素，并未进行深入的挖掘。待以后有时间，还可以搭建一些机器学习的模型，通过数据训练，来预测未给出数据的乘客生还情况。"
   ]
  }
 ],
 "metadata": {
  "kernelspec": {
   "display_name": "Python 3",
   "language": "python",
   "name": "python3"
  },
  "language_info": {
   "codemirror_mode": {
    "name": "ipython",
    "version": 3
   },
   "file_extension": ".py",
   "mimetype": "text/x-python",
   "name": "python",
   "nbconvert_exporter": "python",
   "pygments_lexer": "ipython3",
   "version": "3.6.3"
  }
 },
 "nbformat": 4,
 "nbformat_minor": 2
}
